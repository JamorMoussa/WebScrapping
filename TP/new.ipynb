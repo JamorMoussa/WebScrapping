{
  "nbformat": 4,
  "nbformat_minor": 0,
  "metadata": {
    "colab": {
      "provenance": [],
      "authorship_tag": "ABX9TyPnNbzYEKjdQ9qxXvLeqrhZ",
      "include_colab_link": true
    },
    "kernelspec": {
      "name": "python3",
      "display_name": "Python 3"
    },
    "language_info": {
      "name": "python"
    }
  },
  "cells": [
    {
      "cell_type": "markdown",
      "metadata": {
        "id": "view-in-github",
        "colab_type": "text"
      },
      "source": [
        "<a href=\"https://colab.research.google.com/github/JamorMoussa/WebScrapping/blob/main/TP/new.ipynb\" target=\"_parent\"><img src=\"https://colab.research.google.com/assets/colab-badge.svg\" alt=\"Open In Colab\"/></a>"
      ]
    },
    {
      "cell_type": "code",
      "source": [
        "!pip install bs4"
      ],
      "metadata": {
        "id": "zNpVTxg-0oA5"
      },
      "execution_count": null,
      "outputs": []
    },
    {
      "cell_type": "code",
      "execution_count": null,
      "metadata": {
        "id": "QFuwSKJ4z-j5"
      },
      "outputs": [],
      "source": [
        "from bs4 import BeautifulSoup as soup\n"
      ]
    },
    {
      "cell_type": "code",
      "source": [
        "!pip install xmltojson\n",
        "maltojson.parse(ContentHtml)"
      ],
      "metadata": {
        "id": "Ki3_a-7s2MJa"
      },
      "execution_count": null,
      "outputs": []
    },
    {
      "cell_type": "code",
      "source": [
        "# find :\n",
        "soup.find(\"balise\" , {\"attrs\":\"valuse\")"
      ],
      "metadata": {
        "id": "cPZdi7z117X_"
      },
      "execution_count": null,
      "outputs": []
    },
    {
      "cell_type": "code",
      "source": [
        "BeautifulSoup(Html, \"lxml\")"
      ],
      "metadata": {
        "id": "pYDIdtqQ2ahW"
      },
      "execution_count": null,
      "outputs": []
    },
    {
      "cell_type": "markdown",
      "source": [
        "## GET Https requests : "
      ],
      "metadata": {
        "id": "KoxlHb2N5loi"
      }
    },
    {
      "cell_type": "code",
      "source": [
        "pyload {\n",
        "    \"q\" : \"sakölas\"\n",
        "    \"page\" : \"asdas\"\n",
        "}\n",
        "\n",
        "s = requets.session()\n",
        "response = s.get(URL, params= pyload)\n",
        "status_code = respose.status_code \n",
        "encoding = status_code.encodding"
      ],
      "metadata": {
        "id": "ZXPtfSc35lBe"
      },
      "execution_count": null,
      "outputs": []
    },
    {
      "cell_type": "code",
      "source": [],
      "metadata": {
        "id": "yXL-uWL322rO"
      },
      "execution_count": null,
      "outputs": []
    }
  ]
}